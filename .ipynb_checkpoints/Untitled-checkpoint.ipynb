{
 "cells": [
  {
   "cell_type": "code",
   "execution_count": 1,
   "id": "e857aad8",
   "metadata": {},
   "outputs": [],
   "source": [
    "import pandas as pd\n",
    "import requests\n",
    "import datetime"
   ]
  },
  {
   "cell_type": "code",
   "execution_count": 2,
   "id": "e0c96eb2",
   "metadata": {},
   "outputs": [
    {
     "data": {
      "text/html": [
       "<div>\n",
       "<style scoped>\n",
       "    .dataframe tbody tr th:only-of-type {\n",
       "        vertical-align: middle;\n",
       "    }\n",
       "\n",
       "    .dataframe tbody tr th {\n",
       "        vertical-align: top;\n",
       "    }\n",
       "\n",
       "    .dataframe thead th {\n",
       "        text-align: right;\n",
       "    }\n",
       "</style>\n",
       "<table border=\"1\" class=\"dataframe\">\n",
       "  <thead>\n",
       "    <tr style=\"text-align: right;\">\n",
       "      <th></th>\n",
       "      <th>Дата</th>\n",
       "      <th>Время</th>\n",
       "      <th>Точка</th>\n",
       "      <th>Статус</th>\n",
       "      <th>Имя</th>\n",
       "      <th>Фамилия</th>\n",
       "      <th>ID</th>\n",
       "    </tr>\n",
       "  </thead>\n",
       "  <tbody>\n",
       "    <tr>\n",
       "      <th>0</th>\n",
       "      <td>2024-07-02</td>\n",
       "      <td>12:08:51.507678</td>\n",
       "      <td>Мухамедханова</td>\n",
       "      <td>Отметка</td>\n",
       "      <td>s</td>\n",
       "      <td>t</td>\n",
       "      <td>507500572</td>\n",
       "    </tr>\n",
       "  </tbody>\n",
       "</table>\n",
       "</div>"
      ],
      "text/plain": [
       "         Дата            Время          Точка   Статус Имя Фамилия         ID\n",
       "0  2024-07-02  12:08:51.507678  Мухамедханова  Отметка   s       t  507500572"
      ]
     },
     "execution_count": 2,
     "metadata": {},
     "output_type": "execute_result"
    }
   ],
   "source": [
    "df = pd.read_excel('data/reviews.xlsx')\n",
    "df.head()"
   ]
  },
  {
   "cell_type": "code",
   "execution_count": 3,
   "id": "fa3b8442",
   "metadata": {},
   "outputs": [],
   "source": [
    "addresses = ['Мәңгілік Ел 37', 'Мәңгілік Ел 40', 'Мухамедханова', 'Таха Хусейна 2/1', 'Тәуелсіздік 34']"
   ]
  },
  {
   "cell_type": "code",
   "execution_count": 4,
   "id": "50488d11",
   "metadata": {},
   "outputs": [],
   "source": [
    "opened_addresses = list(df[(df['Дата'] == str(datetime.datetime.now().date())) & (df['Статус'] == 'Отметка')]['Точка'].unique())"
   ]
  },
  {
   "cell_type": "code",
   "execution_count": 5,
   "id": "c58a8e88",
   "metadata": {},
   "outputs": [],
   "source": [
    "non_opened_addresses = [element for element in addresses if element not in opened_addresses]"
   ]
  },
  {
   "cell_type": "code",
   "execution_count": 15,
   "id": "f4322fc3",
   "metadata": {},
   "outputs": [],
   "source": [
    "if len(non_opened_addresses) == 1:\n",
    "    text = f\"Асемгуль, луна кофе по адресу {', '.join(non_opened_addresses)} не был открыт!\"\n",
    "if len(non_opened_addresses) > 1:\n",
    "    text = f\"Асемгуль, луна кофе по адресу {', '.join(non_opened_addresses)} не были открыты!\"\n"
   ]
  },
  {
   "cell_type": "code",
   "execution_count": null,
   "id": "126d26ff",
   "metadata": {},
   "outputs": [],
   "source": [
    "url = 'https://zvonok.com/manager/cabapi_external/api/v1/phones/call/'\n",
    "\n",
    "payload = {\n",
    "    'public_key': '22dc3a76017437d85401e95423154821',\n",
    "    'phone': '+77088504506',\n",
    "    'campaign_id': '1124317061',\n",
    "    'text': text,\n",
    "    'speaker': 'Maxim'\n",
    "}\n",
    "\n",
    "response = requests.post(url, data=payload)\n",
    "\n",
    "print(response.status_code)\n",
    "print(response.json())"
   ]
  },
  {
   "cell_type": "code",
   "execution_count": null,
   "id": "44631af5",
   "metadata": {},
   "outputs": [],
   "source": []
  }
 ],
 "metadata": {
  "kernelspec": {
   "display_name": "bot",
   "language": "python",
   "name": "bot"
  },
  "language_info": {
   "codemirror_mode": {
    "name": "ipython",
    "version": 3
   },
   "file_extension": ".py",
   "mimetype": "text/x-python",
   "name": "python",
   "nbconvert_exporter": "python",
   "pygments_lexer": "ipython3",
   "version": "3.9.19"
  }
 },
 "nbformat": 4,
 "nbformat_minor": 5
}
